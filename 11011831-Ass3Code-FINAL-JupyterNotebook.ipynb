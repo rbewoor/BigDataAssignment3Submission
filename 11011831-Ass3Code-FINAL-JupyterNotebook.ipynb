{
 "cells": [
  {
   "cell_type": "code",
   "execution_count": 5,
   "metadata": {},
   "outputs": [],
   "source": [
    "import numpy as np"
   ]
  },
  {
   "cell_type": "code",
   "execution_count": 6,
   "metadata": {},
   "outputs": [
    {
     "name": "stdout",
     "output_type": "stream",
     "text": [
      "\n",
      "\n",
      "  ----------  Problem 1  ----------  \n",
      "\n",
      "Alternative 1...\n",
      "[ 0 -1  2 -1  4 -1  6 -1  8 -1]\n",
      "Alternative 2...\n",
      "[ 0 -1  2 -1  4 -1  6 -1  8 -1]\n"
     ]
    }
   ],
   "source": [
    "### Prob1: How to replace items that satisfy a condition with another value in numpy array ?\n",
    "# Replace all odd numbers in arr with -1   (note this is not asking for the odd numbered positions, but the values itself)\n",
    "# Input:            arr = np.array([0, 1, 2, 3, 4, 5, 6, 7, 8, 9])\n",
    "# Desired output:   array([0, -1, 2, -1, 4, -1, 6, -1, 8, -1])\n",
    "#\n",
    "# Sources: alternative 1:: None \n",
    "#          alternative 2:: https://www.numpy.org/devdocs/reference/generated/numpy.place.html#numpy.place\n",
    "#                          \n",
    "print(\"\\n\\n  ----------  Problem 1  ----------  \\n\")\n",
    "# alternative 1 :: broadcasting ops only\n",
    "print(\"Alternative 1...\")\n",
    "arr = np.array([0, 1, 2, 3, 4, 5, 6, 7, 8, 9])\n",
    "arr = (arr%2 * (arr+1) * -1) + arr\n",
    "print(arr)\n",
    "# alternative 2 :: use where np.place\n",
    "print(\"Alternative 2...\")\n",
    "arr = np.array([0, 1, 2, 3, 4, 5, 6, 7, 8, 9])\n",
    "np.place(arr, arr % 2 == 1, [-1])\n",
    "print(arr)"
   ]
  },
  {
   "cell_type": "code",
   "execution_count": 7,
   "metadata": {},
   "outputs": [
    {
     "name": "stdout",
     "output_type": "stream",
     "text": [
      "\n",
      "\n",
      "  ----------  Problem 2  ----------  \n",
      "\n",
      "Alternative 1...\n",
      "[[0 1 2 3 4]\n",
      " [5 6 7 8 9]]\n",
      "Alternative 2...\n",
      "[[0 1 2 3 4]\n",
      " [5 6 7 8 9]]\n"
     ]
    }
   ],
   "source": [
    "### Prob2: How to reshape an array ?\n",
    "# Convert a 1D array to a 2D array with 2 rows\n",
    "# Input:            arr = np.arange(10)\n",
    "# Desired output:   array([ [0, 1, 2, 3, 4],[5, 6, 7, 8, 9] ])\n",
    "#\n",
    "# Sources: https://www.numpy.org/devdocs/user/quickstart.html#quickstart-shape-manipulation\n",
    "#\n",
    "print(\"\\n\\n  ----------  Problem 2  ----------  \\n\")\n",
    "# alternative 1 :: use reshape method, using -1 tells numpy to calculates other dimension, note that needs reassignment unlike resize\n",
    "print(\"Alternative 1...\")\n",
    "arr = np.arange(10)\n",
    "arr = arr.reshape(2,-1)\n",
    "print(arr)\n",
    "# alternative 2 :: use resize method, cannot use -1 argument so using arr.size, but note needs no reassignment\n",
    "print(\"Alternative 2...\")\n",
    "arr = np.arange(10)\n",
    "arr.resize(2,int(arr.size/2))\n",
    "print(arr)"
   ]
  },
  {
   "cell_type": "code",
   "execution_count": 8,
   "metadata": {},
   "outputs": [
    {
     "name": "stdout",
     "output_type": "stream",
     "text": [
      "\n",
      "\n",
      "  ----------  Problem 3  ----------  \n",
      "\n",
      "Alternative 1...\n",
      "[1 1 1 2 2 2 3 3 3 1 2 3 1 2 3 1 2 3]\n",
      "Alternative 2...\n",
      "[1 1 1 2 2 2 3 3 3 1 2 3 1 2 3 1 2 3]\n"
     ]
    }
   ],
   "source": [
    "### Prob3: How to generate custome sequences in numpy without hardcoding ?\n",
    "# Create the following pattern without hardcoding. Use only numpy functions and the below input array\n",
    "# arr = np.array([1, 2, 3])\n",
    "# Desired output:   array( [1, 1, 1, 2, 2, 2, 3, 3, 3, 1, 2, 3, 1, 2, 3, 1, 2, 3] )\n",
    "#\n",
    "# Sources: https://www.numpy.org/devdocs/reference/generated/numpy.concatenate.html#numpy.concatenate\n",
    "#          https://www.numpy.org/devdocs/reference/generated/numpy.repeat.html?highlight=ndarray%20tile\n",
    "#          https://www.numpy.org/devdocs/reference/generated/numpy.tile.html?highlight=ndarray%20tile\n",
    "#\n",
    "print(\"\\n\\n  ----------  Problem 3  ----------  \\n\")\n",
    "#\n",
    "# alternative 1:\n",
    "print(\"Alternative 1...\")\n",
    "arr = np.array([1, 2, 3])\n",
    "res = np.concatenate((np.repeat(arr, 3), np.tile(arr, 3)), axis=None)\n",
    "print(res)\n",
    "# alternative 2:\n",
    "print(\"Alternative 2...\")\n",
    "arr = np.array([1, 2, 3])\n",
    "res = np.r_[np.repeat(arr, 3), np.tile(arr, 3)]\n",
    "print(res)"
   ]
  },
  {
   "cell_type": "code",
   "execution_count": 9,
   "metadata": {},
   "outputs": [
    {
     "name": "stdout",
     "output_type": "stream",
     "text": [
      "\n",
      "\n",
      "  ----------  Problem 4  ----------  \n",
      "\n",
      "Alternative 1...\n",
      "[2 4]\n",
      "Alternative 2...\n",
      "[2 4]\n"
     ]
    }
   ],
   "source": [
    "### Prob4: How to get the common items between two python numpy arrays ?\n",
    "# Create the following pattern without hardcoding. Use only numpy functions and the below input array\n",
    "# Get the common items between a and b\n",
    "# a = np.array([1, 2, 3, 2, 3, 4, 3, 4, 5, 6])\n",
    "# b = np.array([7, 2, 10, 2, 7, 4, 9, 4, 9, 8])\n",
    "# Desired output:   array( [2, 4] )\n",
    "#\n",
    "# Sources: https://www.numpy.org/devdocs/reference/routines.set.html?highlight=set\n",
    "#          https://www.numpy.org/devdocs/reference/generated/numpy.intersect1d.html#numpy.intersect1d\n",
    "#          https://www.numpy.org/devdocs/reference/generated/numpy.unique.html#numpy.unique\n",
    "#\n",
    "print(\"\\n\\n  ----------  Problem 4  ----------  \\n\")\n",
    "#\n",
    "# alternative 1:\n",
    "print(\"Alternative 1...\")\n",
    "a = np.array([1, 2, 3, 2, 3, 4, 3, 4, 5, 6])\n",
    "b = np.array([7, 2, 10, 2, 7, 4, 9, 4, 9, 8])\n",
    "res = np.intersect1d(a, b)\n",
    "print(res)\n",
    "# alternative 2: using np.unique first to reduce number of elements to compare\n",
    "print(\"Alternative 2...\")\n",
    "res1 = np.intersect1d(np.unique(a), np.unique(b))\n",
    "print(res1)"
   ]
  },
  {
   "cell_type": "code",
   "execution_count": 10,
   "metadata": {},
   "outputs": [
    {
     "name": "stdout",
     "output_type": "stream",
     "text": [
      "\n",
      "\n",
      "  ----------  Problem 5  ----------  \n",
      "\n",
      "(array([1, 3, 5, 7], dtype=int64),)\n"
     ]
    }
   ],
   "source": [
    "### Prob5: How to get the positions where elements of two arrays match ?\n",
    "# Create the positions where elements of a and b match\n",
    "# Get the common items between a and b\n",
    "# a = np.array([1, 2, 3, 2, 3, 4, 3, 4, 5, 6])\n",
    "# b = np.array([7, 2, 10, 2, 7, 4, 9, 4, 9, 8])\n",
    "# Desired output:   array( [1, 3, 5, 7], )\n",
    "#\n",
    "# Sources: https://www.numpy.org/devdocs/reference/generated/numpy.where.html#numpy.where\n",
    "#\n",
    "print(\"\\n\\n  ----------  Problem 5  ----------  \\n\")\n",
    "#\n",
    "a = np.array([1, 2, 3, 2, 3, 4, 3, 4, 5, 6])\n",
    "b = np.array([7, 2, 10, 2, 7, 4, 9, 4, 9, 8])\n",
    "res = np.where(a==b)\n",
    "print(res)"
   ]
  },
  {
   "cell_type": "code",
   "execution_count": 11,
   "metadata": {},
   "outputs": [
    {
     "name": "stdout",
     "output_type": "stream",
     "text": [
      "\n",
      "\n",
      "  ----------  Problem 6  ----------  \n",
      "\n",
      "[[6.85636169 5.69224452 5.43088817]\n",
      " [7.14842719 6.56637219 7.72648073]\n",
      " [9.995723   9.69255622 9.48232539]\n",
      " [7.51500069 7.93949855 6.29019905]\n",
      " [9.25438299 9.86662329 8.33831966]]\n"
     ]
    }
   ],
   "source": [
    "### Prob6:\n",
    "# How to create a 2D array containing random floats between 5 and 10 ?\n",
    "# Create a 2D array of shape 5x3 to contain random decimal numbers between 5 and 10\n",
    "#\n",
    "# Sources: https://www.numpy.org/devdocs/reference/random/generated/numpy.random.mtrand.RandomState.random_sample.html#numpy.random.mtrand.RandomState.random_sample\n",
    "#          https://www.numpy.org/devdocs/reference/random/legacy.html#legacy\n",
    "#          https://www.numpy.org/devdocs/reference/random/generated/numpy.random.mtrand.RandomState.randint.html#numpy.random.mtrand.RandomState.randint\n",
    "#          https://www.numpy.org/devdocs/reference/random/generated/numpy.random.mtrand.RandomState.random_integers.html#numpy.random.mtrand.RandomState.random_integers\n",
    "#\n",
    "# np.random.random_sample(size=None)\n",
    "#          -- Return random floats in the half-open interval [0.0, 1.0), continuous uniform distri.\n",
    "#          -- To sample Unif[a, b), b > a multiply the output of random_sample by (b-a) and add a\n",
    "# np.random.randint(low, high=None, size=None, dtype='l')\n",
    "#          -- Return random integers from low (INCLUSIVE) to high (EXCLUSIVE).\n",
    "#          -- Return random integers from the “discrete uniform” distribution of the specified dtype in the\n",
    "#             “half-open” interval [low, high). If high is None (the default), then results are from [0, low).\n",
    "# np.random.random_integers(low, high=None, size=None)\n",
    "#          -- DEPRECATED so use RANDINT.\n",
    "#          -- Random integers of type np.int between low and high, both INCLUSIVE.\n",
    "#          -- only for the closed interval [low, high], and 1 is the lowest value if high is omitted.\n",
    "#\n",
    "print(\"\\n\\n  ----------  Problem 6  ----------  \\n\")\n",
    "#\n",
    "lowerBound = 5.0\n",
    "upperBound = 10.0\n",
    "arr = (upperBound - lowerBound) * np.random.random_sample(size=(5, 3)) + lowerBound\n",
    "print(arr)"
   ]
  },
  {
   "cell_type": "code",
   "execution_count": 12,
   "metadata": {},
   "outputs": [
    {
     "name": "stdout",
     "output_type": "stream",
     "text": [
      "\n",
      "\n",
      "  ----------  Problem 7  ----------  \n",
      "\n",
      "[ 0  1  2  3  4  5  6  7  8  9 10 11 12 13 14]\n",
      "[ 0  1  2 ... 12 13 14]\n"
     ]
    }
   ],
   "source": [
    "### Prob7: How to limit the number of items printed in output of numpy array to 6 ?\n",
    "# Limit the number of items printed in python numpy array a to a maximum 6 elements.\n",
    "# arr = np.arange(15)\n",
    "# Desired output: array([0, 1, 2, ..., 12, 13, 14])\n",
    "#\n",
    "# Sources: https://www.numpy.org/devdocs/reference/generated/numpy.set_printoptions.html?highlight=print#numpy.set_printoptions\n",
    "#\n",
    "print(\"\\n\\n  ----------  Problem 7  ----------  \\n\")\n",
    "#\n",
    "arr = np.arange(15)\n",
    "print(arr)\n",
    "np.set_printoptions(threshold=6)\n",
    "print(arr)\n",
    "# restore options to default values\n",
    "np.set_printoptions(edgeitems=3, infstr='inf', linewidth=75, nanstr='nan', precision=8, suppress=False, threshold=1000, formatter=None)"
   ]
  },
  {
   "cell_type": "code",
   "execution_count": 13,
   "metadata": {},
   "outputs": [
    {
     "name": "stdout",
     "output_type": "stream",
     "text": [
      "\n",
      "\n",
      "  ----------  Problem 8  ----------  \n",
      "\n",
      "[[5.43404942e-04 2.78369385e-04 4.24517591e-04]\n",
      " [8.44776132e-04 4.71885619e-06 1.21569121e-04]\n",
      " [6.70749085e-04 8.25852755e-04 1.36706590e-04]]\n",
      "[[0.000543 0.000278 0.000425]\n",
      " [0.000845 0.000005 0.000122]\n",
      " [0.000671 0.000826 0.000137]]\n"
     ]
    }
   ],
   "source": [
    "### Prob8: How to pretty print a numpy array by supressing the scientific notation (like 1e10) ?\n",
    "# Force the items printed in python numpy array to 6 significant digits.\n",
    "# np.random.seed(100)\n",
    "# rand_arr = np.random.random([3,3]) / 1e3\n",
    "# Desired output: array([ [0.000543, 0.000278, 0.000425], [0.000845, 0.000005, 0.000122], [0.000671, 0.000826, 0.000137] ])\n",
    "#\n",
    "# Sources: https://www.numpy.org/devdocs/reference/generated/numpy.set_printoptions.html?highlight=print#numpy.set_printoptions\n",
    "#\n",
    "print(\"\\n\\n  ----------  Problem 8  ----------  \\n\")\n",
    "#\n",
    "np.random.seed(100)\n",
    "rand_arr = np.random.random([3,3]) / 1e3\n",
    "print(rand_arr)\n",
    "\n",
    "np.set_printoptions(precision=6)\n",
    "np.set_printoptions(suppress=True)\n",
    "print(rand_arr)\n",
    "# restore options to default values\n",
    "np.set_printoptions(edgeitems=3, infstr='inf', linewidth=75, nanstr='nan', precision=8, suppress=False, threshold=1000, formatter=None)"
   ]
  },
  {
   "cell_type": "code",
   "execution_count": 14,
   "metadata": {},
   "outputs": [
    {
     "name": "stdout",
     "output_type": "stream",
     "text": [
      "\n",
      "\n",
      "  ----------  Problem 9  ----------  \n",
      "\n",
      "Alternative 1...\n",
      "[[0 1 2]\n",
      " [3 4 5]\n",
      " [6 7 8]]\n",
      "After column swapping...\n",
      "[[0 2 1]\n",
      " [3 5 4]\n",
      " [6 8 7]]\n",
      "Alternative 2...\n",
      "[[0 1 2]\n",
      " [3 4 5]\n",
      " [6 7 8]]\n",
      "After column swapping...\n",
      "[[0 2 1]\n",
      " [3 5 4]\n",
      " [6 8 7]]\n",
      "Alternative 3...\n",
      "[[0 1 2]\n",
      " [3 4 5]\n",
      " [6 7 8]]\n",
      "After column swapping...\n",
      "[[0 2 1]\n",
      " [3 5 4]\n",
      " [6 8 7]]\n"
     ]
    }
   ],
   "source": [
    "### Prob9: How to swap two columns in a 2D numpy array ?\n",
    "# Swap the columns 1 and 2 in the array arr.\n",
    "# arr = np.arange(9).reshape(3,3)\n",
    "#\n",
    "# Sources: alternative 1:: None\n",
    "#          alternative 2:: https://www.numpy.org/devdocs/reference/generated/numpy.copy.html?highlight=copy#numpy.copy\n",
    "#          alternative 3:: https://www.w3resource.com/python-exercises/numpy/python-numpy-exercise-150.php\n",
    "#\n",
    "print(\"\\n\\n  ----------  Problem 9  ----------  \\n\")\n",
    "#\n",
    "arr = np.arange(9).reshape(3,3)\n",
    "swapColA = 1\n",
    "swapColB = 2\n",
    "# alternative 1: without creating a new vector\n",
    "print(\"Alternative 1...\")\n",
    "####\n",
    "#   suppose that here a and b are the vectors in columns CA and CB\n",
    "#   CA                               CB\n",
    "#   a                                b\n",
    "#   CA= CA +CB =a +b                 CB= CA -CB =a+b -b =a\n",
    "#   CA= CA -CB =a+b -a =b            CB= CB already a= a \"\"\"\n",
    "####\n",
    "print(arr)\n",
    "arr[:,swapColA] = arr[:,swapColA] + arr[:,swapColB]\n",
    "arr[:,swapColB] = arr[:,swapColA] - arr[:,swapColB]\n",
    "arr[:,swapColA] = arr[:,swapColA] - arr[:,swapColB]\n",
    "print(\"After column swapping...\")\n",
    "print(arr)\n",
    "# alternative 2: using a new vector with deep copy\n",
    "print(\"Alternative 2...\")\n",
    "arr = np.arange(9).reshape(3,3)\n",
    "print(arr)\n",
    "newVec = arr[:,swapColA].copy() # Using DEEP COPY with .copy() otherwise value will be overwritten later.\n",
    "arr[:,swapColA] = arr[:,swapColB]\n",
    "arr[:,swapColB] = newVec\n",
    "print(\"After column swapping...\")\n",
    "print(arr)\n",
    "# alternative 3: most elegant way - found on the net\n",
    "print(\"Alternative 3...\")\n",
    "arr = np.arange(9).reshape(3,3)\n",
    "print(arr)\n",
    "arr[:,[swapColA, swapColB]] = arr[:,[swapColB, swapColA]]\n",
    "print(\"After column swapping...\")\n",
    "print(arr)"
   ]
  },
  {
   "cell_type": "code",
   "execution_count": 15,
   "metadata": {},
   "outputs": [
    {
     "name": "stdout",
     "output_type": "stream",
     "text": [
      "\n",
      "\n",
      "  ----------  Problem 10  ----------  \n",
      "\n",
      "Alternative 1...\n",
      "[[0 1 2]\n",
      " [3 4 5]\n",
      " [6 7 8]]\n",
      "After row swapping...\n",
      "[[0 1 2]\n",
      " [6 7 8]\n",
      " [3 4 5]]\n",
      "Alternative 2...\n",
      "[[0 1 2]\n",
      " [3 4 5]\n",
      " [6 7 8]]\n",
      "After row swapping...\n",
      "[[0 1 2]\n",
      " [6 7 8]\n",
      " [3 4 5]]\n",
      "Alternative 3...\n",
      "[[0 1 2]\n",
      " [3 4 5]\n",
      " [6 7 8]]\n",
      "After row swapping...\n",
      "[[0 1 2]\n",
      " [6 7 8]\n",
      " [3 4 5]]\n"
     ]
    }
   ],
   "source": [
    "### Prob10: How to swap two rows in a 2D numpy array ?\n",
    "# Swap the rows 1 and 2 in the array arr.\n",
    "# arr = np.arange(9).reshape(3,3)\n",
    "#\n",
    "# Sources: alternative 1:: None\n",
    "#          alternative 2:: https://www.numpy.org/devdocs/reference/generated/numpy.copy.html?highlight=copy#numpy.copy\n",
    "#          alternative 3:: https://www.w3resource.com/python-exercises/numpy/python-numpy-exercise-150.php\n",
    "#\n",
    "print(\"\\n\\n  ----------  Problem 10  ----------  \\n\")\n",
    "#\n",
    "arr = np.arange(9).reshape(3,3)\n",
    "swapRowA = 1\n",
    "swapRowB = 2\n",
    "# alternative 1: without creating a new vector\n",
    "print(\"Alternative 1...\")\n",
    "####\n",
    "#   suppose that here a and b are the vectors in columns RA and RB\n",
    "#   RA                               RB\n",
    "#   a                                b\n",
    "#   RA= RA +RB =a +b                 RB= RA -RB =a+b -b =a\n",
    "#   RA= RA -RB =a+b -a =b            RB= RB already a= a \"\"\"\n",
    "####\n",
    "print(arr)\n",
    "arr[swapRowA,:] = arr[swapRowA,:] + arr[swapRowB,:]\n",
    "arr[swapRowB,:] = arr[swapRowA,:] - arr[swapRowB,:]\n",
    "arr[swapRowA,:] = arr[swapRowA,:] - arr[swapRowB,:]\n",
    "print(\"After row swapping...\")\n",
    "print(arr)\n",
    "# alternative 2: using a new vector with deep copy\n",
    "print(\"Alternative 2...\")\n",
    "arr = np.arange(9).reshape(3,3)\n",
    "print(arr)\n",
    "newVec = arr[swapRowA,:].copy() # Using DEEP COPY with .copy() otherwise value will be overwritten later.\n",
    "arr[swapRowA,:] = arr[swapRowB,:]\n",
    "arr[swapRowB,:] = newVec\n",
    "print(\"After row swapping...\")\n",
    "print(arr)\n",
    "# alternative 3: most elegant way - found on the net\n",
    "print(\"Alternative 3...\")\n",
    "arr = np.arange(9).reshape(3,3)\n",
    "print(arr)\n",
    "arr[[swapRowA, swapRowB],:] = arr[[swapRowB, swapRowA],:]\n",
    "print(\"After row swapping...\")\n",
    "print(arr)"
   ]
  }
 ],
 "metadata": {
  "kernelspec": {
   "display_name": "Python 3",
   "language": "python",
   "name": "python3"
  },
  "language_info": {
   "codemirror_mode": {
    "name": "ipython",
    "version": 3
   },
   "file_extension": ".py",
   "mimetype": "text/x-python",
   "name": "python",
   "nbconvert_exporter": "python",
   "pygments_lexer": "ipython3",
   "version": "3.7.3"
  }
 },
 "nbformat": 4,
 "nbformat_minor": 2
}
